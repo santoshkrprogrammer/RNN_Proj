{
  "nbformat": 4,
  "nbformat_minor": 0,
  "metadata": {
    "colab": {
      "name": "RNN_Mnist.ipynb",
      "provenance": []
    },
    "kernelspec": {
      "name": "python3",
      "display_name": "Python 3"
    },
    "language_info": {
      "name": "python"
    },
    "accelerator": "GPU"
  },
  "cells": [
    {
      "cell_type": "code",
      "metadata": {
        "id": "5oUvl0hy-FU1"
      },
      "source": [
        " from __future__ import print_function \n",
        "\n",
        " import keras\n",
        " from keras.datasets import mnist\n",
        " from keras.models import Model\n",
        " from keras.layers import Input,Dense,TimeDistributed\n",
        " from keras.layers import LSTM\n"
      ],
      "execution_count": 1,
      "outputs": []
    },
    {
      "cell_type": "code",
      "metadata": {
        "id": "DGpHsidsKXGH"
      },
      "source": [
        "# Training parameters.\n",
        "batch_size = 32\n",
        "num_classes = 10\n",
        "epochs = 5"
      ],
      "execution_count": 2,
      "outputs": []
    },
    {
      "cell_type": "code",
      "metadata": {
        "id": "m4F-IlojKN-Y"
      },
      "source": [
        "#Embedding dimensions.\n",
        "row_hidden = 128\n",
        "col_hidden = 128"
      ],
      "execution_count": 4,
      "outputs": []
    },
    {
      "cell_type": "code",
      "metadata": {
        "colab": {
          "base_uri": "https://localhost:8080/"
        },
        "id": "j4WsgNDlLMc3",
        "outputId": "fd1e82cf-e336-48f8-ab3d-bb8a104b7f01"
      },
      "source": [
        "# The data, split between train and test sets.\n",
        "(x_train,y_train),(x_test,y_test) = mnist.load_data() "
      ],
      "execution_count": 5,
      "outputs": [
        {
          "output_type": "stream",
          "name": "stdout",
          "text": [
            "Downloading data from https://storage.googleapis.com/tensorflow/tf-keras-datasets/mnist.npz\n",
            "11493376/11490434 [==============================] - 0s 0us/step\n",
            "11501568/11490434 [==============================] - 0s 0us/step\n"
          ]
        }
      ]
    },
    {
      "cell_type": "code",
      "metadata": {
        "colab": {
          "base_uri": "https://localhost:8080/"
        },
        "id": "tt_lxKijL0Hl",
        "outputId": "e49bdf27-09c4-47f7-a156-4334d35a39d5"
      },
      "source": [
        "# Reshape data to 40 for Hierarchical RNN.\n",
        "\n",
        "#HRNNS can learn accross multiple levels of temporal hierarchy over a complex sequence.Usually,the first recurrent layer of an HRNN encodes a sentence \n",
        "# (e.g. of word vectors) into a sentence vector.The second recurrent layer then encodes a sequence of such vectors (encoded by the first layer) into a \n",
        "# document vector. This document vector is considered to ppreserve both the word-level and sentence-level structur of the context.\n",
        "\n",
        "x_train = x_train.reshape(x_train.shape[0],28,28,1)\n",
        "x_test = x_test.reshape(x_test.shape[0],28,28,1)\n",
        "x_train = x_train.astype('float32')\n",
        "x_test = x_test.astype('float32')\n",
        "x_train /= 255\n",
        "x_test /= 255\n",
        "print('x_train shape:', x_train.shape)\n",
        "print(x_train.shape[0], 'train.samples')\n",
        "print(x_test.shape[0], 'test samples')\n"
      ],
      "execution_count": 6,
      "outputs": [
        {
          "output_type": "stream",
          "name": "stdout",
          "text": [
            "x_train shape: (60000, 28, 28, 1)\n",
            "60000 train.samples\n",
            "10000 test samples\n"
          ]
        }
      ]
    },
    {
      "cell_type": "code",
      "metadata": {
        "id": "Eb_VWe0FUbTj"
      },
      "source": [
        ""
      ],
      "execution_count": null,
      "outputs": []
    },
    {
      "cell_type": "code",
      "metadata": {
        "id": "Rx2Q0B4BPgt8"
      },
      "source": [
        "# converts class vectors to binary class matrices.\n",
        "from keras.utils import np_utils\n",
        "y_train = np_utils.to_categorical(y_train,num_classes) \n",
        "y_test = np_utils.to_categorical(y_test, num_classes)\n",
        "\n",
        "row, col,pixel = x_train.shape[1:]\n",
        "\n",
        "#40 input \n",
        "x= Input(shape=(row,col,pixel))\n"
      ],
      "execution_count": 8,
      "outputs": []
    },
    {
      "cell_type": "code",
      "metadata": {
        "id": "ANpgaWmFRKNi"
      },
      "source": [
        "# Encodes a row of pixels using TimeDistributed Wrapper.\n",
        "# TimeDistrubuted. This wrapper applies a layer to every temporal slice of an input.The input should be at least 30, and the dimension of index one will be\n",
        "#considered to be the temporal dimension. Consider a batch of 32 samples, where each sample is a sequence of 10 vectors of 16 dimensions\n",
        "\n",
        "encoded_rows = TimeDistributed(LSTM(row_hidden)) (x)\n",
        "\n",
        "#Encodes columns of encoded rows.\n",
        "encoded_columns = LSTM(col_hidden)(encoded_rows)"
      ],
      "execution_count": 9,
      "outputs": []
    },
    {
      "cell_type": "code",
      "metadata": {
        "id": "QXlA084HSca7"
      },
      "source": [
        "# Final predictions and model.\n",
        "prediction = Dense(num_classes, activation='softmax')(encoded_columns)\n",
        "model = Model(x, prediction)\n",
        "model.compile(loss='categorical_crossentropy',optimizer='rmsprop',metrics=['accuracy'])"
      ],
      "execution_count": 10,
      "outputs": []
    },
    {
      "cell_type": "code",
      "metadata": {
        "colab": {
          "base_uri": "https://localhost:8080/"
        },
        "id": "bEiMGH9aTHz_",
        "outputId": "273c6935-d467-47df-cbb6-79e6542e1eac"
      },
      "source": [
        "# Training.\n",
        "model.fit(x_train,\n",
        "          y_train,batch_size=batch_size,\n",
        "          epochs=epochs,\n",
        "          verbose=1,\n",
        "          validation_data=(x_test,y_test))"
      ],
      "execution_count": 12,
      "outputs": [
        {
          "output_type": "stream",
          "name": "stdout",
          "text": [
            "Epoch 1/5\n",
            "1875/1875 [==============================] - 64s 30ms/step - loss: 0.4502 - accuracy: 0.8494 - val_loss: 0.1680 - val_accuracy: 0.9518\n",
            "Epoch 2/5\n",
            "1875/1875 [==============================] - 55s 29ms/step - loss: 0.1093 - accuracy: 0.9671 - val_loss: 0.0813 - val_accuracy: 0.9764\n",
            "Epoch 3/5\n",
            "1875/1875 [==============================] - 57s 31ms/step - loss: 0.0761 - accuracy: 0.9772 - val_loss: 0.0670 - val_accuracy: 0.9795\n",
            "Epoch 4/5\n",
            "1875/1875 [==============================] - 55s 29ms/step - loss: 0.0607 - accuracy: 0.9818 - val_loss: 0.0613 - val_accuracy: 0.9819\n",
            "Epoch 5/5\n",
            "1875/1875 [==============================] - 55s 29ms/step - loss: 0.0494 - accuracy: 0.9850 - val_loss: 0.0979 - val_accuracy: 0.9726\n"
          ]
        },
        {
          "output_type": "execute_result",
          "data": {
            "text/plain": [
              "<keras.callbacks.History at 0x7ff1700ac910>"
            ]
          },
          "metadata": {},
          "execution_count": 12
        }
      ]
    },
    {
      "cell_type": "code",
      "metadata": {
        "colab": {
          "base_uri": "https://localhost:8080/"
        },
        "id": "yujVM6NgUh-_",
        "outputId": "27889c31-f9e6-48a7-e43b-56e0ead3321a"
      },
      "source": [
        "#Evaluation\n",
        "scores = model.evaluate(x_test,y_test,verbose=0)\n",
        "print('Test loss:',scores[0])\n",
        "print('Test accuracy:',scores[1])"
      ],
      "execution_count": 13,
      "outputs": [
        {
          "output_type": "stream",
          "name": "stdout",
          "text": [
            "Test loss: 0.09785681962966919\n",
            "Test accuracy: 0.972599983215332\n"
          ]
        }
      ]
    }
  ]
}